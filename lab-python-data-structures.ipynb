{
 "cells": [
  {
   "cell_type": "markdown",
   "metadata": {
    "tags": []
   },
   "source": [
    "# Lab | Data Structures "
   ]
  },
  {
   "cell_type": "markdown",
   "metadata": {},
   "source": [
    "## Exercise: Managing Customer Orders\n",
    "\n",
    "As part of a business venture, you are starting an online store that sells various products. To ensure smooth operations, you need to develop a program that manages customer orders and inventory.\n",
    "\n",
    "Follow the steps below to complete the exercise:\n",
    "\n",
    "1. Define a list called `products` that contains the following items: \"t-shirt\", \"mug\", \"hat\", \"book\", \"keychain\".\n",
    "\n",
    "2. Create an empty dictionary called `inventory`.\n",
    "\n",
    "3. Ask the user to input the quantity of each product available in the inventory. Use the product names from the `products` list as keys in the `inventory` dictionary and assign the respective quantities as values.\n",
    "\n",
    "4. Create an empty set called `customer_orders`.\n",
    "\n",
    "5. Ask the user to input the name of three products that a customer wants to order (from those in the products list, meaning three products out of \"t-shirt\", \"mug\", \"hat\", \"book\" or \"keychain\". Add each product name to the `customer_orders` set.\n",
    "\n",
    "6. Print the products in the `customer_orders` set.\n",
    "\n",
    "7. Calculate the following order statistics:\n",
    "   - Total Products Ordered: The total number of products in the `customer_orders` set.\n",
    "   - Percentage of Products Ordered: The percentage of products ordered compared to the total available products.\n",
    "   \n",
    "   Store these statistics in a tuple called `order_status`.\n",
    "\n",
    "8. Print the order statistics using the following format:\n",
    "   ```\n",
    "   Order Statistics:\n",
    "   Total Products Ordered: <total_products_ordered>\n",
    "   Percentage of Products Ordered: <percentage_ordered>% \n",
    "   ```\n",
    "\n",
    "9. Update the inventory by subtracting 1 from the quantity of each product. Modify the `inventory` dictionary accordingly.\n",
    "\n",
    "10. Print the updated inventory, displaying the quantity of each product on separate lines.\n",
    "\n",
    "Solve the exercise by implementing the steps using the Python concepts of lists, dictionaries, sets, and basic input/output operations. "
   ]
  },
  {
   "cell_type": "code",
   "execution_count": 42,
   "metadata": {},
   "outputs": [
    {
     "name": "stdout",
     "output_type": "stream",
     "text": [
      "Please choose an item from the product list: mug\n",
      "Please choose an item from the product list: book\n",
      "Please choose an item from the product list: hat\n",
      "{'mug', 'hat', 'book'}\n",
      "Total number of products is: 3\n",
      "The percentage of products ordered is: 60.0 %\n",
      "Your order status is:  (60.0, 3)\n",
      "Order Statistics:\n",
      "Total Products Ordered: 3\n",
      "Percentage of Products Ordered: 60.00%\n",
      "Initial Inventory: {'t-shirts': 10, 'mug': 10, 'hat': 10, 'book': 10, 'keychain': 10}\n",
      "Updated Inventory:\n",
      "t-shirts: 10\n",
      "mug: 9\n",
      "hat: 9\n",
      "book: 9\n",
      "keychain: 10\n"
     ]
    }
   ],
   "source": [
    "products = [\"t-shirts\", \"mug\", \"hat\", \"book\", \"keychain\"]\n",
    "\n",
    "inventory = {}\n",
    "\n",
    "customer_orders = set()\n",
    "\n",
    "for item_of_choice in range(3):\n",
    "    item_of_choice = str(input(\"Please choose an item from the product list: \"))\n",
    "    customer_orders.add(item_of_choice)\n",
    "print(customer_orders)\n",
    "\n",
    "# Calculate the following order statistics:\n",
    "\n",
    "total_products_ordered = len(customer_orders)\n",
    "print(f\"Total number of products is:\", total_products_ordered)\n",
    "\n",
    "# Calculate the following order statistics:\n",
    "\n",
    "percentage_ordered = {}\n",
    "percentage_ordered = (len(customer_orders) / len(products))* 100\n",
    "print(f\"The percentage of products ordered is:\", percentage_ordered, \"%\")\n",
    "\n",
    "order_status = (percentage_ordered, total_products_ordered)\n",
    "# stored in a tuple\n",
    "print(\"Your order status is: \", order_status)\n",
    "\n",
    "# Print the order statistics\n",
    "print(\"Order Statistics:\")\n",
    "print(\"Total Products Ordered:\", total_products_ordered)\n",
    "print(\"Percentage of Products Ordered: {:.2f}%\".format(percentage_ordered))\n",
    "\n",
    "\n",
    "# Initialize each product in the inventory with an initial quantity\n",
    "for product in products:\n",
    "    inventory[product] = 10  # You can set any initial quantity here\n",
    "\n",
    "# Print the inventory to verify\n",
    "print(\"Initial Inventory:\", inventory)\n",
    "initial_inventory = inventory\n",
    "\n",
    "# subtract the orders from inventory\n",
    "# for subtracting ordered products from inventory you need to look for products that are added into the final customer_orders set()\n",
    "# \n",
    "\n",
    "    \n",
    "# Print the updated inventory\n",
    "for product in customer_orders:\n",
    "    if product in initial_inventory:\n",
    "         initial_inventory[product] -= 1\n",
    "# Print the updated inventory\n",
    "print(\"Updated Inventory:\")\n",
    "for product, quantity in initial_inventory.items():\n",
    "    print(f\"{product}: {quantity}\")"
   ]
  },
  {
   "cell_type": "code",
   "execution_count": null,
   "metadata": {},
   "outputs": [],
   "source": []
  },
  {
   "cell_type": "code",
   "execution_count": null,
   "metadata": {},
   "outputs": [],
   "source": []
  },
  {
   "cell_type": "code",
   "execution_count": null,
   "metadata": {},
   "outputs": [],
   "source": []
  }
 ],
 "metadata": {
  "kernelspec": {
   "display_name": "Python 3 (ipykernel)",
   "language": "python",
   "name": "python3"
  },
  "language_info": {
   "codemirror_mode": {
    "name": "ipython",
    "version": 3
   },
   "file_extension": ".py",
   "mimetype": "text/x-python",
   "name": "python",
   "nbconvert_exporter": "python",
   "pygments_lexer": "ipython3",
   "version": "3.11.5"
  }
 },
 "nbformat": 4,
 "nbformat_minor": 4
}
