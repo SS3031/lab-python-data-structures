{
 "cells": [
  {
   "cell_type": "code",
   "execution_count": null,
   "id": "924e8c9e",
   "metadata": {},
   "outputs": [
    {
     "name": "stdout",
     "output_type": "stream",
     "text": [
      "Please choose an item from the product list: mug\n",
      "Do you want to order more products? (Yes/no): no\n",
      "Your final order contains:  {'mug'}\n",
      "Please choose an item from the product list: book\n",
      "Do you want to order more products? (Yes/no): yes\n",
      "Your final order contains:  {'mug', 'book'}\n",
      "Please choose an item from the product list: keychain\n",
      "Do you want to order more products? (Yes/no): no\n",
      "Your final order contains:  {'mug', 'book', 'keychain'}\n"
     ]
    }
   ],
   "source": [
    "products = [\"t-shirts\", \"mug\", \"hat\", \"book\", \"keychain\"]\n",
    "\n",
    "inventory = {}\n",
    "\n",
    "customer_orders = set()\n",
    "while True:\n",
    "    item_of_choice = input(\"Please choose an item from the product list: \")\n",
    "    customer_orders.add(item_of_choice)\n",
    "    more_items = input(\"Do you want to order more products? (Yes/no): \").lower\n",
    "    if more_items == \"yes\":\n",
    "        break\n",
    "    elif more_items == \"no\":\n",
    "        break\n",
    "    print(\"Your final order contains: \", customer_orders)\n"
   ]
  },
  {
   "cell_type": "code",
   "execution_count": null,
   "id": "ae0acd71",
   "metadata": {},
   "outputs": [],
   "source": []
  }
 ],
 "metadata": {
  "kernelspec": {
   "display_name": "Python 3 (ipykernel)",
   "language": "python",
   "name": "python3"
  },
  "language_info": {
   "codemirror_mode": {
    "name": "ipython",
    "version": 3
   },
   "file_extension": ".py",
   "mimetype": "text/x-python",
   "name": "python",
   "nbconvert_exporter": "python",
   "pygments_lexer": "ipython3",
   "version": "3.11.5"
  }
 },
 "nbformat": 4,
 "nbformat_minor": 5
}
